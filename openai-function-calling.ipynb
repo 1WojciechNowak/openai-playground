{
 "cells": [
  {
   "cell_type": "markdown",
   "id": "73f042fd-f0e8-45b6-9924-43fcca2de27d",
   "metadata": {},
   "source": [
    "# openai playground - function calling"
   ]
  },
  {
   "cell_type": "markdown",
   "id": "b0561b3e-1f7a-42dc-ab63-48dd4b287fa0",
   "metadata": {},
   "source": [
    "#### Based on Henrik Kniberg - youtube video: [click](https://www.youtube.com/watch?v=i-oHvHejdsc&t=616s)"
   ]
  },
  {
   "cell_type": "code",
   "execution_count": 1,
   "id": "d65e8a95-cbf7-4be5-a543-10d8f4061da2",
   "metadata": {},
   "outputs": [
    {
     "name": "stdout",
     "output_type": "stream",
     "text": [
      "Defaulting to user installation because normal site-packages is not writeable\n",
      "Requirement already satisfied: openai in /Users/wojciechnowak/Library/Python/3.9/lib/python/site-packages (1.40.2)\n",
      "Requirement already satisfied: anyio<5,>=3.5.0 in /Users/wojciechnowak/Library/Python/3.9/lib/python/site-packages (from openai) (4.3.0)\n",
      "Requirement already satisfied: distro<2,>=1.7.0 in /Users/wojciechnowak/Library/Python/3.9/lib/python/site-packages (from openai) (1.9.0)\n",
      "Requirement already satisfied: httpx<1,>=0.23.0 in /Users/wojciechnowak/Library/Python/3.9/lib/python/site-packages (from openai) (0.27.0)\n",
      "Requirement already satisfied: jiter<1,>=0.4.0 in /Users/wojciechnowak/Library/Python/3.9/lib/python/site-packages (from openai) (0.5.0)\n",
      "Requirement already satisfied: pydantic<3,>=1.9.0 in /Users/wojciechnowak/Library/Python/3.9/lib/python/site-packages (from openai) (2.8.2)\n",
      "Requirement already satisfied: sniffio in /Users/wojciechnowak/Library/Python/3.9/lib/python/site-packages (from openai) (1.3.1)\n",
      "Requirement already satisfied: tqdm>4 in /Users/wojciechnowak/Library/Python/3.9/lib/python/site-packages (from openai) (4.66.5)\n",
      "Requirement already satisfied: typing-extensions<5,>=4.11 in /Users/wojciechnowak/Library/Python/3.9/lib/python/site-packages (from openai) (4.11.0)\n",
      "Requirement already satisfied: idna>=2.8 in /Users/wojciechnowak/Library/Python/3.9/lib/python/site-packages (from anyio<5,>=3.5.0->openai) (3.7)\n",
      "Requirement already satisfied: exceptiongroup>=1.0.2 in /Users/wojciechnowak/Library/Python/3.9/lib/python/site-packages (from anyio<5,>=3.5.0->openai) (1.2.1)\n",
      "Requirement already satisfied: certifi in /Users/wojciechnowak/Library/Python/3.9/lib/python/site-packages (from httpx<1,>=0.23.0->openai) (2024.2.2)\n",
      "Requirement already satisfied: httpcore==1.* in /Users/wojciechnowak/Library/Python/3.9/lib/python/site-packages (from httpx<1,>=0.23.0->openai) (1.0.5)\n",
      "Requirement already satisfied: h11<0.15,>=0.13 in /Users/wojciechnowak/Library/Python/3.9/lib/python/site-packages (from httpcore==1.*->httpx<1,>=0.23.0->openai) (0.14.0)\n",
      "Requirement already satisfied: annotated-types>=0.4.0 in /Users/wojciechnowak/Library/Python/3.9/lib/python/site-packages (from pydantic<3,>=1.9.0->openai) (0.7.0)\n",
      "Requirement already satisfied: pydantic-core==2.20.1 in /Users/wojciechnowak/Library/Python/3.9/lib/python/site-packages (from pydantic<3,>=1.9.0->openai) (2.20.1)\n",
      "\n",
      "\u001b[1m[\u001b[0m\u001b[34;49mnotice\u001b[0m\u001b[1;39;49m]\u001b[0m\u001b[39;49m A new release of pip is available: \u001b[0m\u001b[31;49m24.0\u001b[0m\u001b[39;49m -> \u001b[0m\u001b[32;49m24.2\u001b[0m\n",
      "\u001b[1m[\u001b[0m\u001b[34;49mnotice\u001b[0m\u001b[1;39;49m]\u001b[0m\u001b[39;49m To update, run: \u001b[0m\u001b[32;49m/Library/Developer/CommandLineTools/usr/bin/python3 -m pip install --upgrade pip\u001b[0m\n",
      "Defaulting to user installation because normal site-packages is not writeable\n",
      "Requirement already satisfied: python-dotenv in /Users/wojciechnowak/Library/Python/3.9/lib/python/site-packages (1.0.1)\n",
      "\n",
      "\u001b[1m[\u001b[0m\u001b[34;49mnotice\u001b[0m\u001b[1;39;49m]\u001b[0m\u001b[39;49m A new release of pip is available: \u001b[0m\u001b[31;49m24.0\u001b[0m\u001b[39;49m -> \u001b[0m\u001b[32;49m24.2\u001b[0m\n",
      "\u001b[1m[\u001b[0m\u001b[34;49mnotice\u001b[0m\u001b[1;39;49m]\u001b[0m\u001b[39;49m To update, run: \u001b[0m\u001b[32;49m/Library/Developer/CommandLineTools/usr/bin/python3 -m pip install --upgrade pip\u001b[0m\n"
     ]
    }
   ],
   "source": [
    "!pip install openai\n",
    "!pip install python-dotenv"
   ]
  },
  {
   "cell_type": "code",
   "execution_count": 2,
   "id": "ef25f37f-6649-451d-81a8-ab31f92896c5",
   "metadata": {},
   "outputs": [
    {
     "name": "stderr",
     "output_type": "stream",
     "text": [
      "/Users/wojciechnowak/Library/Python/3.9/lib/python/site-packages/urllib3/__init__.py:35: NotOpenSSLWarning: urllib3 v2 only supports OpenSSL 1.1.1+, currently the 'ssl' module is compiled with 'LibreSSL 2.8.3'. See: https://github.com/urllib3/urllib3/issues/3020\n",
      "  warnings.warn(\n"
     ]
    }
   ],
   "source": [
    "import os\n",
    "import requests\n",
    "import json\n",
    "\n",
    "from dotenv import dotenv_values\n",
    "from openai import OpenAI"
   ]
  },
  {
   "cell_type": "code",
   "execution_count": 3,
   "id": "3e00ecf6-25b6-4628-83f4-0ee21d6ce164",
   "metadata": {},
   "outputs": [],
   "source": [
    "secrets = dotenv_values(\".env\")\n",
    "os.environ[\"OPENAI_API_KEY\"] = secrets[\"OPENAI_API_KEY\"]\n",
    "\n",
    "client = OpenAI()"
   ]
  },
  {
   "cell_type": "markdown",
   "id": "d6e1ad12-3c8b-4b43-9d47-bc26651f5bea",
   "metadata": {},
   "source": [
    "## Asking the model without function calling"
   ]
  },
  {
   "cell_type": "code",
   "execution_count": 4,
   "id": "d9228851-921f-4828-a6bc-1b7826c0213f",
   "metadata": {},
   "outputs": [
    {
     "name": "stdout",
     "output_type": "stream",
     "text": [
      "I'm sorry, I can't provide current weather updates as I don't have real-time data.\n"
     ]
    }
   ],
   "source": [
    "## Send a request to the model\n",
    "\n",
    "no_func_shot = client.chat.completions.create(\n",
    "    model=\"gpt-4\",\n",
    "    messages=[{\"role\": \"system\", \"content\": \"You give very short answers\"},\n",
    "              {\"role\": \"user\", \"content\": \"What is the weather in Stockholm?\"}],\n",
    ")\n",
    "print(no_func_shot.choices[0].message.content)"
   ]
  },
  {
   "cell_type": "markdown",
   "id": "1368cb37-59f5-4724-993b-949b3e6bf57d",
   "metadata": {},
   "source": [
    "## Asking the model with function calling"
   ]
  },
  {
   "cell_type": "markdown",
   "id": "047bd1fd-fcbb-44c6-beab-9e0ae35f8cb0",
   "metadata": {},
   "source": [
    "![image](func-calling-1.png)"
   ]
  },
  {
   "cell_type": "markdown",
   "id": "70aa1697-3130-42b8-97c8-ebbacf9256f2",
   "metadata": {},
   "source": [
    "### Prepare function and function spec"
   ]
  },
  {
   "cell_type": "code",
   "execution_count": 5,
   "id": "f7be23ff-0f40-4798-bb9b-93f542597bbd",
   "metadata": {},
   "outputs": [],
   "source": [
    "# Build weather function spec\n",
    "\n",
    "weather_function_spec = {\n",
    "    \"name\": \"get_weather\",\n",
    "    \"description\": \"Get the current temperature & weather for a city\",\n",
    "    \"parameters\": {\n",
    "        \"type\": \"object\",\n",
    "        \"properties\": {\n",
    "            \"city\": {\n",
    "                \"type\": \"string\",\n",
    "                \"description\": \"The city\",\n",
    "            },\n",
    "        },\n",
    "        \"required\": [\"city\"]\n",
    "    }\n",
    "}"
   ]
  },
  {
   "cell_type": "code",
   "execution_count": 6,
   "id": "2a916001-c680-48ad-a1a1-f293f4334849",
   "metadata": {},
   "outputs": [],
   "source": [
    "# Define a function - for a model to be called\n",
    "\n",
    "def get_weather(city, secrets):\n",
    "    url = \"\"\"https://api.openweathermap.org/data/2.5/weather?q={}&appid={}&units=metric\"\"\".format(city, secrets[\"OPEN_WEATHER_API_KEY\"])\n",
    "    response = requests.get(url)\n",
    "\n",
    "    if response.status_code != 200:\n",
    "        raise Exception(\"An error has occured, code: {}, reason: {}\".format(response.status_code, response.reason))\n",
    "    data_dict = response.json()\n",
    "\n",
    "    return json.dumps({\n",
    "        \"city\": data_dict['name'],\n",
    "        \"weather\": data_dict['weather'][0]['description'],\n",
    "        \"temperature\": data_dict['main']['temp'],\n",
    "        \"unit\": \"Celsius\"\n",
    "    })"
   ]
  },
  {
   "cell_type": "markdown",
   "id": "a94ec69a-df48-45a8-8de5-203a8fc039ad",
   "metadata": {},
   "source": [
    "### Example 1 - Function Calling"
   ]
  },
  {
   "cell_type": "code",
   "execution_count": 7,
   "id": "c79c865e-fcd2-4f42-8cd9-0c9e5094734d",
   "metadata": {},
   "outputs": [
    {
     "data": {
      "text/plain": [
       "ChatCompletionMessage(content=None, refusal=None, role='assistant', function_call=FunctionCall(arguments='{\\n  \"city\": \"Stockholm\"\\n}', name='get_weather'), tool_calls=None)"
      ]
     },
     "execution_count": 7,
     "metadata": {},
     "output_type": "execute_result"
    }
   ],
   "source": [
    "stockholm_weather_msgs = [{\"role\": \"system\", \"content\": \"You give very short answers\"},\n",
    "                       {\"role\": \"user\", \"content\": \"What is the weather in Stockholm?\"}]\n",
    "\n",
    "shot_1st = client.chat.completions.create(\n",
    "    model=\"gpt-4\",\n",
    "    messages=stockholm_weather_msgs,\n",
    "    functions=[weather_function_spec]\n",
    ")\n",
    "llm_response = shot_1st.choices[0].message\n",
    "llm_response"
   ]
  },
  {
   "cell_type": "code",
   "execution_count": 8,
   "id": "e60b0d6e-e0b4-454e-9430-f4f212e444ff",
   "metadata": {},
   "outputs": [
    {
     "data": {
      "text/plain": [
       "'{\"city\": \"Stockholm\", \"weather\": \"clear sky\", \"temperature\": 7.98, \"unit\": \"Celsius\"}'"
      ]
     },
     "execution_count": 8,
     "metadata": {},
     "output_type": "execute_result"
    }
   ],
   "source": [
    "stockholm_weather_msgs.append(llm_response)\n",
    "\n",
    "args = json.loads(llm_response.function_call.arguments)\n",
    "weather_response = get_weather(args[\"city\"],secrets)\n",
    "\n",
    "weather_response"
   ]
  },
  {
   "cell_type": "code",
   "execution_count": 9,
   "id": "d185d4cf-7dca-4b46-ada6-c48bd7adf63c",
   "metadata": {},
   "outputs": [
    {
     "data": {
      "text/plain": [
       "ChatCompletionMessage(content='Clear sky, 7.98°C', refusal=None, role='assistant', function_call=None, tool_calls=None)"
      ]
     },
     "execution_count": 9,
     "metadata": {},
     "output_type": "execute_result"
    }
   ],
   "source": [
    "stockholm_weather_msgs.append({\"role\": \"function\", \"name\": \"get_weather\", \"content\": weather_response})\n",
    "\n",
    "shot_2nd  = client.chat.completions.create(\n",
    "    model=\"gpt-4\",\n",
    "    messages=stockholm_weather_msgs,\n",
    "    functions=[weather_function_spec]\n",
    ")\n",
    "shot_2nd.choices[0].message"
   ]
  },
  {
   "cell_type": "markdown",
   "id": "121578ba-3060-4883-940a-0cd5d7af2d3e",
   "metadata": {},
   "source": [
    "### Example 2 - Function Calling"
   ]
  },
  {
   "cell_type": "code",
   "execution_count": 10,
   "id": "503cb1ea-da73-4b0d-b3e3-1d3fa3d9461b",
   "metadata": {},
   "outputs": [
    {
     "data": {
      "text/plain": [
       "ChatCompletionMessage(content=None, refusal=None, role='assistant', function_call=FunctionCall(arguments='{\\n  \"city\": \"Stockholm\"\\n}', name='get_weather'), tool_calls=None)"
      ]
     },
     "execution_count": 10,
     "metadata": {},
     "output_type": "execute_result"
    }
   ],
   "source": [
    "stockholm_paris_weather_msgs = [{\"role\": \"system\", \"content\": \"Answer the question about weather.\"},\n",
    "                    {\"role\": \"user\", \"content\": \"What is the weather sunnier in Stockholm than in Paris?\"}]\n",
    "\n",
    "shot_1st = client.chat.completions.create(\n",
    "    model=\"gpt-4\",\n",
    "    messages=stockholm_paris_weather_msgs,\n",
    "    functions=[weather_function_spec]\n",
    ")\n",
    "llm_response = shot_1st.choices[0].message\n",
    "llm_response"
   ]
  },
  {
   "cell_type": "code",
   "execution_count": 11,
   "id": "cc017ce8-f25a-4362-8056-3a216cbd077c",
   "metadata": {},
   "outputs": [
    {
     "data": {
      "text/plain": [
       "'{\"city\": \"Stockholm\", \"weather\": \"clear sky\", \"temperature\": 7.98, \"unit\": \"Celsius\"}'"
      ]
     },
     "execution_count": 11,
     "metadata": {},
     "output_type": "execute_result"
    }
   ],
   "source": [
    "stockholm_paris_weather_msgs.append(llm_response)\n",
    "\n",
    "args = json.loads(llm_response.function_call.arguments)\n",
    "weather_response = get_weather(args[\"city\"],secrets)\n",
    "\n",
    "weather_response"
   ]
  },
  {
   "cell_type": "code",
   "execution_count": 12,
   "id": "231e90df-5300-4d3f-9386-912f9519e8d1",
   "metadata": {},
   "outputs": [
    {
     "data": {
      "text/plain": [
       "ChatCompletionMessage(content=None, refusal=None, role='assistant', function_call=FunctionCall(arguments='{\\n  \"city\": \"Paris\"\\n}', name='get_weather'), tool_calls=None)"
      ]
     },
     "execution_count": 12,
     "metadata": {},
     "output_type": "execute_result"
    }
   ],
   "source": [
    "stockholm_paris_weather_msgs.append({\"role\": \"function\", \"name\": \"get_weather\", \"content\": weather_response})\n",
    "\n",
    "shot_2nd  = client.chat.completions.create(\n",
    "    model=\"gpt-4\",\n",
    "    messages=stockholm_paris_weather_msgs,\n",
    "    functions=[weather_function_spec]\n",
    ")\n",
    "llm_response = shot_2nd.choices[0].message\n",
    "llm_response"
   ]
  },
  {
   "cell_type": "code",
   "execution_count": 13,
   "id": "a8e7a404-d6d2-4f3b-9175-498c12a96784",
   "metadata": {},
   "outputs": [
    {
     "data": {
      "text/plain": [
       "'{\"city\": \"Paris\", \"weather\": \"overcast clouds\", \"temperature\": 15.01, \"unit\": \"Celsius\"}'"
      ]
     },
     "execution_count": 13,
     "metadata": {},
     "output_type": "execute_result"
    }
   ],
   "source": [
    "stockholm_paris_weather_msgs.append(llm_response)\n",
    "\n",
    "args = json.loads(llm_response.function_call.arguments)\n",
    "weather_response = get_weather(args[\"city\"],secrets)\n",
    "\n",
    "weather_response"
   ]
  },
  {
   "cell_type": "code",
   "execution_count": 14,
   "id": "9d10ffe0-4a58-482f-941f-ab3f6cc044ab",
   "metadata": {},
   "outputs": [
    {
     "data": {
      "text/plain": [
       "ChatCompletionMessage(content=\"Yes, the weather is sunnier in Stockholm than in Paris right now. Stockholm has a clear sky, whereas Paris has overcast clouds. However, Paris is warmer than Stockholm with a temperature of 15.01°C compared to Stockholm's 7.98°C.\", refusal=None, role='assistant', function_call=None, tool_calls=None)"
      ]
     },
     "execution_count": 14,
     "metadata": {},
     "output_type": "execute_result"
    }
   ],
   "source": [
    "stockholm_paris_weather_msgs.append({\"role\": \"function\", \"name\": \"get_weather\", \"content\": weather_response})\n",
    "\n",
    "shot_3rd  = client.chat.completions.create(\n",
    "    model=\"gpt-4\",\n",
    "    messages=stockholm_paris_weather_msgs,\n",
    "    functions=[weather_function_spec]\n",
    ")\n",
    "llm_response = shot_3rd.choices[0].message\n",
    "llm_response"
   ]
  },
  {
   "cell_type": "markdown",
   "id": "7689ed92-2b37-4ba5-9394-c4fedeaba088",
   "metadata": {},
   "source": [
    "### Example 3 - Function Calling"
   ]
  },
  {
   "cell_type": "markdown",
   "id": "c03b58e9-a6fb-431e-b9ab-ed93b1532007",
   "metadata": {},
   "source": [
    "![image](func-calling-2.png)"
   ]
  },
  {
   "cell_type": "code",
   "execution_count": 15,
   "id": "6e2e9a79-0042-4ec2-bf3d-0d69d0bfdc34",
   "metadata": {},
   "outputs": [],
   "source": [
    "eu_cities_weather_msgs = [{\"role\": \"system\", \"content\": \"Answer the question about weather.\"},\n",
    "                    {\"role\": \"user\", \"content\": \"Give me the weather in 3 europe largest cities?\"}]"
   ]
  },
  {
   "cell_type": "code",
   "execution_count": 16,
   "id": "35a1ccd2-0eaf-41a8-aa67-f4b091af3170",
   "metadata": {},
   "outputs": [],
   "source": [
    "# The message for the weather in n europe largest cities would require n function calls!\n",
    "# Let's use loop to make it more generic\n",
    "\n",
    "def ask_about_weather(msgs, tool):\n",
    "    while True:\n",
    "        shot = client.chat.completions.create(\n",
    "            model=\"gpt-4\",\n",
    "            messages=msgs,\n",
    "            functions=[tool]\n",
    "        )\n",
    "    \n",
    "        response = shot.choices[0].message\n",
    "        print(response)\n",
    "        msgs.append(response)\n",
    "\n",
    "        \n",
    "        if response.function_call is not None and response.function_call.name == \"get_weather\":\n",
    "            args = json.loads(response.function_call.arguments)\n",
    "            weather_response = get_weather(args[\"city\"], secrets)\n",
    "            print(weather_response)\n",
    "\n",
    "            msgs.append({\"role\": \"function\", \"name\": \"get_weather\", \"content\": weather_response})\n",
    "        elif shot.choices[0].finish_reason == \"stop\":\n",
    "            return response\n",
    "    "
   ]
  },
  {
   "cell_type": "code",
   "execution_count": 17,
   "id": "1c3f98e7-b303-4fc9-8ea7-95825274a8a4",
   "metadata": {},
   "outputs": [],
   "source": [
    "tool = weather_function_spec"
   ]
  },
  {
   "cell_type": "code",
   "execution_count": 18,
   "id": "59b1c8a1-1059-4b74-a2cb-4986b59de890",
   "metadata": {},
   "outputs": [
    {
     "name": "stdout",
     "output_type": "stream",
     "text": [
      "ChatCompletionMessage(content=None, refusal=None, role='assistant', function_call=FunctionCall(arguments='{\\n  \"city\": \"Moscow\"\\n}', name='get_weather'), tool_calls=None)\n",
      "{\"city\": \"Moscow\", \"weather\": \"overcast clouds\", \"temperature\": 9.65, \"unit\": \"Celsius\"}\n",
      "ChatCompletionMessage(content=None, refusal=None, role='assistant', function_call=FunctionCall(arguments='{\\n  \"city\": \"London\"\\n}', name='get_weather'), tool_calls=None)\n",
      "{\"city\": \"London\", \"weather\": \"overcast clouds\", \"temperature\": 13.31, \"unit\": \"Celsius\"}\n",
      "ChatCompletionMessage(content=None, refusal=None, role='assistant', function_call=FunctionCall(arguments='{\\n  \"city\": \"Istanbul\"\\n}', name='get_weather'), tool_calls=None)\n",
      "{\"city\": \"Istanbul\", \"weather\": \"scattered clouds\", \"temperature\": 14.28, \"unit\": \"Celsius\"}\n",
      "ChatCompletionMessage(content='Here is the current weather in the three largest cities in Europe:\\n\\n1. Moscow: The weather is overcast clouds with a temperature of 9.65°C\\n2. London: The weather is overcast clouds with a temperature of 13.31°C\\n3. Istanbul: The weather is scattered clouds with a temperature of 14.28°C', refusal=None, role='assistant', function_call=None, tool_calls=None)\n"
     ]
    }
   ],
   "source": [
    "output = ask_about_weather(eu_cities_weather_msgs, tool)"
   ]
  },
  {
   "cell_type": "code",
   "execution_count": 19,
   "id": "032bcc15-afe8-4ebc-8278-6837807ee4f4",
   "metadata": {},
   "outputs": [
    {
     "name": "stdout",
     "output_type": "stream",
     "text": [
      "Here is the current weather in the three largest cities in Europe:\n",
      "\n",
      "1. Moscow: The weather is overcast clouds with a temperature of 9.65°C\n",
      "2. London: The weather is overcast clouds with a temperature of 13.31°C\n",
      "3. Istanbul: The weather is scattered clouds with a temperature of 14.28°C\n"
     ]
    }
   ],
   "source": [
    "print(output.content)"
   ]
  },
  {
   "cell_type": "code",
   "execution_count": null,
   "id": "c352906f-f68f-4f67-bb7b-a31f41cc979b",
   "metadata": {},
   "outputs": [],
   "source": [
    "# By adding the loop over a function calling API in we've implemented very simple Agent :)"
   ]
  },
  {
   "cell_type": "code",
   "execution_count": 20,
   "id": "d9d0eef5-aa5d-4391-bc58-6d1532854595",
   "metadata": {},
   "outputs": [],
   "source": [
    "# The agents have 2 core components:\n",
    "# 1. Reasoning loop\n",
    "# 2. Tool abstractions\n",
    "\n",
    "# Agents have following capabilities:\n",
    "# 1. Breaking down a complex question into smaller ones\n",
    "# 2. Choosing an external Tool to use + coming up with parameters for calling the Tool\n",
    "# 3. Planning out a set of tasks\n",
    "# 4. Storing previously completed tasks in a memory module\n",
    "\n",
    "# These capabilities have been demonstrated in this notebook: Example 2 & 3"
   ]
  },
  {
   "cell_type": "code",
   "execution_count": 21,
   "id": "23c1b07f-7920-43d9-93e7-7ff57bde935c",
   "metadata": {},
   "outputs": [],
   "source": [
    "# Few external links:\n",
    "# 1. Llama index documentation: https://docs.llamaindex.ai/en/stable/use_cases/agents/\n",
    "# 2. Jerry Liu's article: https://medium.com/llamaindex-blog/data-agents-eed797d7972f\n",
    "# 3. Henrik Kniberg youtube video: https://www.youtube.com/watch?v=i-oHvHejdsc&t=616s"
   ]
  }
 ],
 "metadata": {
  "kernelspec": {
   "display_name": "Python 3 (ipykernel)",
   "language": "python",
   "name": "python3"
  },
  "language_info": {
   "codemirror_mode": {
    "name": "ipython",
    "version": 3
   },
   "file_extension": ".py",
   "mimetype": "text/x-python",
   "name": "python",
   "nbconvert_exporter": "python",
   "pygments_lexer": "ipython3",
   "version": "3.9.6"
  }
 },
 "nbformat": 4,
 "nbformat_minor": 5
}
